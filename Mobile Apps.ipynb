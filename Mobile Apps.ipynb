{
 "cells": [
  {
   "cell_type": "markdown",
   "metadata": {},
   "source": [
    "# Analyzing Mobile Data"
   ]
  },
  {
   "cell_type": "markdown",
   "metadata": {},
   "source": [
    "We will look at mobile app data from both google and apple to help our developers understand what type of apps are likely to attract more users on Google Play and the App Store.  The company we are working for designs apps for an English-speaking audience and all apps are free."
   ]
  },
  {
   "cell_type": "markdown",
   "metadata": {},
   "source": [
    "### Exploring Data\n",
    "\n",
    "We will open 2 seperate data sets, `apple_data` and `google_data` and explore the variables.  The headers of each dataset will be stored seperately in `google_header` and `apple_header`. A summary of both datasets can be found below.\n",
    "\n",
    "Data Source: [google data](https://www.kaggle.com/datasets/lava18/google-play-store-apps)  [apple data](https://www.kaggle.com/datasets/ramamet4/app-store-apple-data-set-10k-apps)\n",
    "\n",
    "|Apple|||||Google|||\n",
    "|---|---|:---|---|---|---|---|:---|\n",
    "|index|variable|Description|||index|variable|Description|\n",
    "|0|\"id\"|App ID|||0|App|Application name|\n",
    "|1|\"track_name\"|App Name|||1|Category|Category the app belongs to|\n",
    "|2|\"size_bytes\"|Size (in Bytes)|||2|Rating|Overall user rating of the app|\n",
    "|3|\"currency\"|Currency Type|||3|Reviews|Number of user reviews for the app|\n",
    "|4|\"price\"|Price amount|||4|Size|Size of the app|\n",
    "|5|\"rating_count_tot\"|User Rating counts (for all version)|||5|Installs|Number of user downloads/installs|\n",
    "|6|\"rating_count_ver\"|User Rating counts (for current version)|||6|Type|Paid or Free|\n",
    "|7|\"user_rating\"|Average User Rating value (for all version)|||7|Price|---|\n",
    "|8|\"user_rating_ver\"|Average User Rating value (for current version)|||8|Content Rating| Children / Mature 21+ / Adult|\n",
    "|9|\"ver\"|Latest version code|||9|Genres|can belong to multiple genres|\n",
    "|10|\"cont_rating\"|Content Rating|||10|Last Updated|Date when the app was last updated on Play Store|\n",
    "|11|\"prime_genre\"|Primary Genre|||11|Current Ver|Current version of the app available on Play Store|\n",
    "|12|\"sup_devices.num\"|Number of supporting devices|||12|Android Ver|Min required Android version|\n",
    "|13|\"ipadSc_urls.num\"|Number of screenshots showed for display|||---|---|---|\n",
    "|14|\"lang.num\"|Number of supported languages|||---|---|---|\n",
    "|15|\"vpp_lic\"|Vpp Device Based Licensing Enabled|||---|---|---|"
   ]
  },
  {
   "cell_type": "code",
   "execution_count": 1,
   "metadata": {},
   "outputs": [],
   "source": [
    "from csv import reader\n",
    "opened_file=open('AppleStore.csv')\n",
    "read_file = reader(opened_file)\n",
    "data = list(read_file)\n",
    "apple_header = data[0]\n",
    "apple_data=data[1:]\n",
    "\n",
    "opened_file=open('googleplaystore.csv')\n",
    "read_file = reader(opened_file)\n",
    "data = list(read_file)\n",
    "google_header = data[0]\n",
    "google_data=data[1:]"
   ]
  },
  {
   "cell_type": "code",
   "execution_count": 2,
   "metadata": {},
   "outputs": [],
   "source": [
    "def explore_data(dataset, start, end, rows_and_columns=False):\n",
    "    dataset_slice = dataset[start:end]    \n",
    "    for row in dataset_slice:\n",
    "        print(row)\n",
    "        print('\\n') # adds a new (empty) line after each row\n",
    "\n",
    "    if rows_and_columns:\n",
    "        print('Number of rows:', len(dataset))\n",
    "        print('Number of columns:', len(dataset[0]))"
   ]
  },
  {
   "cell_type": "code",
   "execution_count": 3,
   "metadata": {},
   "outputs": [
    {
     "name": "stdout",
     "output_type": "stream",
     "text": [
      "['Photo Editor & Candy Camera & Grid & ScrapBook', 'ART_AND_DESIGN', '4.1', '159', '19M', '10,000+', 'Free', '0', 'Everyone', 'Art & Design', 'January 7, 2018', '1.0.0', '4.0.3 and up']\n",
      "\n",
      "\n",
      "['Coloring book moana', 'ART_AND_DESIGN', '3.9', '967', '14M', '500,000+', 'Free', '0', 'Everyone', 'Art & Design;Pretend Play', 'January 15, 2018', '2.0.0', '4.0.3 and up']\n",
      "\n",
      "\n",
      "['U Launcher Lite – FREE Live Cool Themes, Hide Apps', 'ART_AND_DESIGN', '4.7', '87510', '8.7M', '5,000,000+', 'Free', '0', 'Everyone', 'Art & Design', 'August 1, 2018', '1.2.4', '4.0.3 and up']\n",
      "\n",
      "\n",
      "Number of rows: 10841\n",
      "Number of columns: 13\n"
     ]
    }
   ],
   "source": [
    "explore_data(google_data, 0, 3, True)"
   ]
  },
  {
   "cell_type": "code",
   "execution_count": 4,
   "metadata": {
    "scrolled": true
   },
   "outputs": [
    {
     "name": "stdout",
     "output_type": "stream",
     "text": [
      "['284882215', 'Facebook', '389879808', 'USD', '0.0', '2974676', '212', '3.5', '3.5', '95.0', '4+', 'Social Networking', '37', '1', '29', '1']\n",
      "\n",
      "\n",
      "['389801252', 'Instagram', '113954816', 'USD', '0.0', '2161558', '1289', '4.5', '4.0', '10.23', '12+', 'Photo & Video', '37', '0', '29', '1']\n",
      "\n",
      "\n",
      "['529479190', 'Clash of Clans', '116476928', 'USD', '0.0', '2130805', '579', '4.5', '4.5', '9.24.12', '9+', 'Games', '38', '5', '18', '1']\n",
      "\n",
      "\n",
      "Number of rows: 7197\n",
      "Number of columns: 16\n"
     ]
    }
   ],
   "source": [
    "explore_data(apple_data, 0, 3, True)"
   ]
  },
  {
   "cell_type": "markdown",
   "metadata": {},
   "source": [
    "## Cleaning the Data\n",
    "\n",
    "Entry 10472 has missing category.  All data has been shifted by one.  Entry will be deleted"
   ]
  },
  {
   "cell_type": "code",
   "execution_count": 5,
   "metadata": {},
   "outputs": [
    {
     "name": "stdout",
     "output_type": "stream",
     "text": [
      "['Life Made WI-Fi Touchscreen Photo Frame', '1.9', '19', '3.0M', '1,000+', 'Free', '0', 'Everyone', '', 'February 11, 2018', '1.0.19', '4.0 and up']\n"
     ]
    }
   ],
   "source": [
    "print(google_data[10472])"
   ]
  },
  {
   "cell_type": "code",
   "execution_count": 6,
   "metadata": {},
   "outputs": [],
   "source": [
    "del google_data[10472]"
   ]
  },
  {
   "cell_type": "markdown",
   "metadata": {},
   "source": [
    "### Remvoing Duplicates from Google Data\n",
    "\n",
    "There are several duplicate entries in the google data that need to be removed.\n",
    "\n",
    "The code below sorts the apps into 2 lists. `duplicate_apps` stores only the duplicate app names.  `unique_apps` stores all app names without repeating the name.  "
   ]
  },
  {
   "cell_type": "code",
   "execution_count": 7,
   "metadata": {},
   "outputs": [
    {
     "name": "stdout",
     "output_type": "stream",
     "text": [
      "duplicate apps:  1181\n",
      "\n",
      "\n",
      "Examples of duplicate apps: \n",
      "  ['Quick PDF Scanner + OCR FREE', 'Box', 'Google My Business', 'ZOOM Cloud Meetings', 'join.me - Simple Meetings', 'Box', 'Zenefits', 'Google Ads', 'Google My Business', 'Slack']\n"
     ]
    }
   ],
   "source": [
    "duplicate_apps = []\n",
    "unique_apps = []\n",
    "\n",
    "for row in google_data:\n",
    "    name = row[0]\n",
    "    if name in unique_apps:\n",
    "        duplicate_apps.append(name)\n",
    "    else :\n",
    "        unique_apps.append(name)\n",
    "\n",
    "print('duplicate apps: ', len(duplicate_apps))\n",
    "print('\\n')\n",
    "print('Examples of duplicate apps: \\n ', duplicate_apps[:10])"
   ]
  },
  {
   "cell_type": "markdown",
   "metadata": {},
   "source": [
    "#### Taking a closer look at the duplicates\n",
    "\n",
    "We took a look at some of the duplicates.  We can see that some of the duplicates are exactly the same in each category and others have some differences.  For those that are the same, we just need to keep one of the entries.  For the apps that have differences, it looks like the number of reviews would be the most relevant way to determine what entries we keep.  We would like the most current data available for each app so we would keep the entry with the most reviews"
   ]
  },
  {
   "cell_type": "code",
   "execution_count": 8,
   "metadata": {},
   "outputs": [
    {
     "name": "stdout",
     "output_type": "stream",
     "text": [
      "['Box', 'BUSINESS', '4.2', '159872', 'Varies with device', '10,000,000+', 'Free', '0', 'Everyone', 'Business', 'July 31, 2018', 'Varies with device', 'Varies with device']\n",
      "['Box', 'BUSINESS', '4.2', '159872', 'Varies with device', '10,000,000+', 'Free', '0', 'Everyone', 'Business', 'July 31, 2018', 'Varies with device', 'Varies with device']\n",
      "['Box', 'BUSINESS', '4.2', '159872', 'Varies with device', '10,000,000+', 'Free', '0', 'Everyone', 'Business', 'July 31, 2018', 'Varies with device', 'Varies with device']\n",
      "\n",
      "\n",
      "['Instagram', 'SOCIAL', '4.5', '66577313', 'Varies with device', '1,000,000,000+', 'Free', '0', 'Teen', 'Social', 'July 31, 2018', 'Varies with device', 'Varies with device']\n",
      "['Instagram', 'SOCIAL', '4.5', '66577446', 'Varies with device', '1,000,000,000+', 'Free', '0', 'Teen', 'Social', 'July 31, 2018', 'Varies with device', 'Varies with device']\n",
      "['Instagram', 'SOCIAL', '4.5', '66577313', 'Varies with device', '1,000,000,000+', 'Free', '0', 'Teen', 'Social', 'July 31, 2018', 'Varies with device', 'Varies with device']\n",
      "['Instagram', 'SOCIAL', '4.5', '66509917', 'Varies with device', '1,000,000,000+', 'Free', '0', 'Teen', 'Social', 'July 31, 2018', 'Varies with device', 'Varies with device']\n"
     ]
    }
   ],
   "source": [
    "for row in google_data :\n",
    "    name = row[0]\n",
    "    if name == 'Box' :\n",
    "        print(row)\n",
    "        \n",
    "print('\\n')\n",
    "\n",
    "for row in google_data :\n",
    "    name = row[0]\n",
    "    if name == 'Instagram' :\n",
    "        print(row)"
   ]
  },
  {
   "cell_type": "markdown",
   "metadata": {},
   "source": [
    "#### Process for removing duplicates\n",
    "\n",
    "When we are done removing duplicates, we can expect to have 9,659 entries remaining\n",
    "\n",
    "We will create an empty dictionary that stores all of the unique apps with the highest number of reviews.  That dictionary should match our expected length of 9,659.\n",
    "\n",
    "We will then create 2 lists, one to track the apps that have been added and one to add the unique rows of data.  We need to keep track of the apps since some of the rows have exactly the same number of reviews.\n",
    "\n",
    "We will store are clean data in `google_data2`."
   ]
  },
  {
   "cell_type": "code",
   "execution_count": 9,
   "metadata": {},
   "outputs": [
    {
     "name": "stdout",
     "output_type": "stream",
     "text": [
      "Expected Length:  9659\n"
     ]
    }
   ],
   "source": [
    "print('Expected Length: ', len(google_data)-1181)"
   ]
  },
  {
   "cell_type": "code",
   "execution_count": 10,
   "metadata": {},
   "outputs": [
    {
     "name": "stdout",
     "output_type": "stream",
     "text": [
      "9659\n"
     ]
    }
   ],
   "source": [
    "most_reviews = {}\n",
    "for row in google_data:\n",
    "    name = row[0]\n",
    "    reviews = int(row[3])\n",
    "    if name in most_reviews and reviews > most_reviews[name]:\n",
    "        most_reviews[name]=reviews\n",
    "    if name not in most_reviews :\n",
    "        most_reviews[name]=reviews\n",
    "\n",
    "print(len(most_reviews))\n",
    "        "
   ]
  },
  {
   "cell_type": "code",
   "execution_count": 11,
   "metadata": {},
   "outputs": [
    {
     "name": "stdout",
     "output_type": "stream",
     "text": [
      "9659\n"
     ]
    }
   ],
   "source": [
    "added=[]\n",
    "google_data2=[]\n",
    "\n",
    "for row in google_data :\n",
    "    name = row[0]\n",
    "    reviews = int(row[3])\n",
    "    if name not in added and reviews == most_reviews[name]:\n",
    "        google_data2.append(row)\n",
    "        added.append(name)\n",
    "        \n",
    "print(len(google_data2))\n"
   ]
  },
  {
   "cell_type": "markdown",
   "metadata": {},
   "source": [
    "#### Exploring the google_data2\n",
    "\n",
    "Now that duplicates have been removed.  We need to explore the data to check and see if any other possible issues with the data could occur.  At this time, no other issues have been found regarding duplicates."
   ]
  },
  {
   "cell_type": "code",
   "execution_count": 12,
   "metadata": {},
   "outputs": [
    {
     "name": "stdout",
     "output_type": "stream",
     "text": [
      "['Visual Voicemail by MetroPCS', 'BUSINESS', '4.1', '16129', 'Varies with device', '10,000,000+', 'Free', '0', 'Everyone', 'Business', 'July 30, 2018', 'Varies with device', 'Varies with device']\n",
      "\n",
      "\n",
      "['Indeed Job Search', 'BUSINESS', '4.3', '674730', 'Varies with device', '50,000,000+', 'Free', '0', 'Everyone', 'Business', 'May 21, 2018', 'Varies with device', 'Varies with device']\n",
      "\n",
      "\n",
      "['Uber Driver', 'BUSINESS', '4.4', '1254730', 'Varies with device', '10,000,000+', 'Free', '0', 'Everyone', 'Business', 'August 3, 2018', 'Varies with device', 'Varies with device']\n",
      "\n",
      "\n",
      "['ADP Mobile Solutions', 'BUSINESS', '4.3', '85185', '29M', '5,000,000+', 'Free', '0', 'Everyone', 'Business', 'July 17, 2018', '3.4.2', '5.0 and up']\n",
      "\n",
      "\n",
      "['Snag - Jobs Hiring Now', 'BUSINESS', '4.3', '32584', 'Varies with device', '1,000,000+', 'Free', '0', 'Everyone', 'Business', 'May 4, 2018', 'Varies with device', 'Varies with device']\n",
      "\n",
      "\n",
      "['Docs To Go™ Free Office Suite', 'BUSINESS', '4.1', '217730', 'Varies with device', '50,000,000+', 'Free', '0', 'Everyone', 'Business', 'April 2, 2018', 'Varies with device', 'Varies with device']\n",
      "\n",
      "\n",
      "['Google My Business', 'BUSINESS', '4.4', '70991', 'Varies with device', '5,000,000+', 'Free', '0', 'Everyone', 'Business', 'July 24, 2018', '2.19.0.204537701', '4.4 and up']\n",
      "\n",
      "\n",
      "['OfficeSuite : Free Office + PDF Editor', 'BUSINESS', '4.3', '1002861', '35M', '100,000,000+', 'Free', '0', 'Everyone', 'Business', 'August 2, 2018', '9.7.14188', '4.1 and up']\n",
      "\n",
      "\n",
      "['USPS MOBILE®', 'BUSINESS', '3.9', '16589', '9.1M', '1,000,000+', 'Free', '0', 'Everyone', 'Business', 'June 14, 2018', '4.9.10', '4.0.3 and up']\n",
      "\n",
      "\n",
      "Number of rows: 9659\n",
      "Number of columns: 13\n"
     ]
    }
   ],
   "source": [
    "explore_data(google_data2, 175, 184, True)"
   ]
  },
  {
   "cell_type": "markdown",
   "metadata": {},
   "source": [
    "## Removing Duplicates from Apple Data"
   ]
  },
  {
   "cell_type": "markdown",
   "metadata": {},
   "source": [
    "The apps in `apple_data` have a unique ID number.  To see if there are duplicates we need to check and see if there are duplicate ID numbers.  As we can see below, there are no duplicate ID numbers."
   ]
  },
  {
   "cell_type": "code",
   "execution_count": 13,
   "metadata": {},
   "outputs": [
    {
     "name": "stdout",
     "output_type": "stream",
     "text": [
      "duplicate apps:  0\n",
      "\n",
      "\n",
      "Examples of duplicate apps: \n",
      "  []\n"
     ]
    }
   ],
   "source": [
    "apple_unique = []\n",
    "apple_duplicate = []\n",
    "for row in apple_data:\n",
    "    ID = row[0]\n",
    "    if ID in apple_unique:\n",
    "        apple_duplicate.append(ID)\n",
    "    else :\n",
    "        apple_unique.append(ID)\n",
    "\n",
    "print('duplicate apps: ', len(apple_duplicate))\n",
    "print('\\n')\n",
    "print('Examples of duplicate apps: \\n ', apple_duplicate[:10])"
   ]
  },
  {
   "cell_type": "markdown",
   "metadata": {},
   "source": [
    "## Removing Non-English Apps\n",
    "\n",
    "Since our customer only designs apps in English, we are only interested in the apps designed for English speakers.  As a result, we need to remove the non-English apps from our dataset.  To do this, we will use the ASCII system and remove any app containing a character greater than 127.  However, this will remove apps that use emoji's in their name or other logos like (C) and TM.  We will only remove those entries that have more than 3 non-English Characters."
   ]
  },
  {
   "cell_type": "code",
   "execution_count": 14,
   "metadata": {},
   "outputs": [],
   "source": [
    "def English_String(a_string):\n",
    "    non_English_count=0\n",
    "    for char in a_string :\n",
    "        if ord(char) > 127 :\n",
    "            non_English_count +=1\n",
    "    if non_English_count > 3 :\n",
    "        return False\n",
    "    return True"
   ]
  },
  {
   "cell_type": "code",
   "execution_count": 15,
   "metadata": {},
   "outputs": [
    {
     "name": "stdout",
     "output_type": "stream",
     "text": [
      "False\n",
      "True\n",
      "True\n"
     ]
    }
   ],
   "source": [
    "print(English_String('爱奇艺PPS -《欢乐颂2》电视剧热播'))\n",
    "print(English_String('Docs To Go™ Free Office Suite'))\n",
    "print(English_String('Instachat 😜'))"
   ]
  },
  {
   "cell_type": "markdown",
   "metadata": {},
   "source": [
    "The function above determines if a string does not contain no more than 3 non-English characters.  When we use this function on both the Google and Apple data, we will have apps whose name is mostly in English.  We might lose a few apps as a result of this, however, There should not be many that have more than 3 English characters.\n",
    "\n",
    "The code below will remove all of the non-English apps by first determing whether or not our app name is in English.  We will then split the data into 2 seperate data sets.  For google they will be `google_data_eng` and `google_data_non_eng` and for apple they will be `apple_data_eng` and `apple_data_non_eng`."
   ]
  },
  {
   "cell_type": "code",
   "execution_count": 16,
   "metadata": {},
   "outputs": [
    {
     "name": "stdout",
     "output_type": "stream",
     "text": [
      "Google English Apps\n",
      "['Photo Designer - Write your name with shapes', 'ART_AND_DESIGN', '4.7', '3632', '5.5M', '500,000+', 'Free', '0', 'Everyone', 'Art & Design', 'July 31, 2018', '3.1', '4.1 and up']\n",
      "\n",
      "\n",
      "['350 Diy Room Decor Ideas', 'ART_AND_DESIGN', '4.5', '27', '17M', '10,000+', 'Free', '0', 'Everyone', 'Art & Design', 'November 7, 2017', '1.0', '2.3 and up']\n",
      "\n",
      "\n",
      "['FlipaClip - Cartoon animation', 'ART_AND_DESIGN', '4.3', '194216', '39M', '5,000,000+', 'Free', '0', 'Everyone', 'Art & Design', 'August 3, 2018', '2.2.5', '4.0.3 and up']\n",
      "\n",
      "\n",
      "['ibis Paint X', 'ART_AND_DESIGN', '4.6', '224399', '31M', '10,000,000+', 'Free', '0', 'Everyone', 'Art & Design', 'July 30, 2018', '5.5.4', '4.1 and up']\n",
      "\n",
      "\n",
      "['Logo Maker - Small Business', 'ART_AND_DESIGN', '4.0', '450', '14M', '100,000+', 'Free', '0', 'Everyone', 'Art & Design', 'April 20, 2018', '4.0', '4.1 and up']\n",
      "\n",
      "\n",
      "Number of rows: 9614\n",
      "Number of columns: 13\n",
      "\n",
      "\n",
      "Google Non-English Apps\n",
      "['RMEduS - 음성인식을 활용한 R 프로그래밍 실습 시스템', 'FAMILY', 'NaN', '4', '64M', '1+', 'Free', '0', 'Everyone', 'Education', 'July 17, 2018', '1.0.1', '4.4 and up']\n",
      "\n",
      "\n",
      "['AJ렌터카 법인 카셰어링', 'MAPS_AND_NAVIGATION', 'NaN', '0', '27M', '10+', 'Free', '0', 'Everyone', 'Maps & Navigation', 'July 30, 2018', '1.0.0.0', '4.3 and up']\n",
      "\n",
      "\n",
      "['Al Quran Free - القرآن (Islam)', 'BOOKS_AND_REFERENCE', '4.7', '1777', '23M', '50,000+', 'Free', '0', 'Everyone', 'Books & Reference', 'February 15, 2015', '1.1', '2.2 and up']\n",
      "\n",
      "\n",
      "['中国語 AQリスニング', 'FAMILY', 'NaN', '21', '17M', '5,000+', 'Free', '0', 'Everyone', 'Education', 'June 22, 2016', '2.4.0', '4.0 and up']\n",
      "\n",
      "\n",
      "['日本AV历史', 'BOOKS_AND_REFERENCE', '4.1', '215', '30M', '10,000+', 'Free', '0', 'Teen', 'Books & Reference', 'March 6, 2018', '1.2', '4.0 and up']\n",
      "\n",
      "\n",
      "Number of rows: 45\n",
      "Number of columns: 13\n"
     ]
    }
   ],
   "source": [
    "google_data_eng = []\n",
    "google_data_non_eng = []\n",
    "\n",
    "for row in google_data2 :\n",
    "    name = row[0]\n",
    "    is_English = English_String(name)\n",
    "    if is_English :\n",
    "        google_data_eng.append(row)\n",
    "    else :\n",
    "        google_data_non_eng.append(row)\n",
    "        \n",
    "print('Google English Apps')\n",
    "explore_data(google_data_eng, 15, 20, True)\n",
    "print('\\n')\n",
    "print('Google Non-English Apps')\n",
    "explore_data(google_data_non_eng, 5, 10, True)"
   ]
  },
  {
   "cell_type": "code",
   "execution_count": 17,
   "metadata": {},
   "outputs": [
    {
     "name": "stdout",
     "output_type": "stream",
     "text": [
      "Apple English Apps\n",
      "['575658129', 'Injustice: Gods Among Us', '1829599232', 'USD', '0.0', '612532', '410', '4.5', '4.5', '2.15.1', '12+', 'Games', '39', '5', '13', '1']\n",
      "\n",
      "\n",
      "['506627515', 'Hay Day', '113641472', 'USD', '0.0', '567344', '4887', '4.5', '4.5', '1.33.134', '4+', 'Games', '38', '5', '18', '1']\n",
      "\n",
      "\n",
      "['500116670', 'Clear Vision (17+)', '37879808', 'USD', '0.99', '541693', '69225', '4.5', '4.5', '1.1.3', '17+', 'Games', '43', '5', '1', '1']\n",
      "\n",
      "\n",
      "['479516143', 'Minecraft: Pocket Edition', '147787776', 'USD', '6.99', '522012', '1148', '4.5', '4.5', '1.1', '9+', 'Games', '37', '1', '11', '1']\n",
      "\n",
      "\n",
      "['293778748', 'PAC-MAN', '100849664', 'USD', '0.0', '508808', '99', '3.0', '4.5', '6.3.5', '4+', 'Games', '38', '5', '10', '1']\n",
      "\n",
      "\n",
      "Number of rows: 6183\n",
      "Number of columns: 16\n",
      "\n",
      "\n",
      "Apple Non-English Apps\n",
      "['414430589', '搜狐视频HD-欢乐颂2 全网首播', '79696896', 'USD', '0.0', '3768', '5', '4.0', '3.0', '6.6', '17+', 'Entertainment', '24', '5', '1', '1']\n",
      "\n",
      "\n",
      "['895670960', '阴阳师-全区互通现世集结', '1040563200', 'USD', '0.0', '3478', '68', '4.5', '3.0', '1.0.20', '9+', 'Games', '37', '5', '1', '1']\n",
      "\n",
      "\n",
      "['477927812', '百度贴吧-全球最大兴趣交友社区', '123991040', 'USD', '0.0', '2860', '4', '4.0', '4.0', '8.4.3', '17+', 'Social Networking', '37', '0', '1', '1']\n",
      "\n",
      "\n",
      "['547166701', '百度网盘', '114601984', 'USD', '0.0', '2434', '7', '4.5', '5.0', '7.1.1', '12+', 'Productivity', '38', '0', '1', '1']\n",
      "\n",
      "\n",
      "['409563112', '爱奇艺HD -《欢乐颂2》电视剧热播', '154600448', 'USD', '0.0', '2394', '0', '4.0', '0.0', '8.5.1', '17+', 'Entertainment', '24', '5', '2', '1']\n",
      "\n",
      "\n",
      "Number of rows: 1014\n",
      "Number of columns: 16\n"
     ]
    }
   ],
   "source": [
    "apple_data_eng = []\n",
    "apple_data_non_eng = []\n",
    "\n",
    "for row in apple_data :\n",
    "    name = row[1]\n",
    "    is_English = English_String(name)\n",
    "    if is_English :\n",
    "        apple_data_eng.append(row)\n",
    "    else :\n",
    "        apple_data_non_eng.append(row)\n",
    "        \n",
    "print('Apple English Apps')\n",
    "explore_data(apple_data_eng, 15, 20, True)\n",
    "print('\\n')\n",
    "print('Apple Non-English Apps')\n",
    "explore_data(apple_data_non_eng, 5, 10, True)"
   ]
  },
  {
   "cell_type": "markdown",
   "metadata": {},
   "source": [
    "## Isolating Free Apps\n",
    "\n",
    "Our company is only makes free apps.  Therefore, we do not want to include data on apps that are paid.  We will remove all paid apps from our dataset.\n",
    "\n",
    "We will do this by by looking at price fore apple and type for google since the google data specifically tells us if it is free or not."
   ]
  },
  {
   "cell_type": "code",
   "execution_count": 18,
   "metadata": {},
   "outputs": [
    {
     "name": "stdout",
     "output_type": "stream",
     "text": [
      "Google Free Apps\n",
      "['Mandala Coloring Book', 'ART_AND_DESIGN', '4.6', '4326', '21M', '100,000+', 'Free', '0', 'Everyone', 'Art & Design', 'June 26, 2018', '1.0.4', '4.4 and up']\n",
      "\n",
      "\n",
      "['3D Color Pixel by Number - Sandbox Art Coloring', 'ART_AND_DESIGN', '4.4', '1518', '37M', '100,000+', 'Free', '0', 'Everyone', 'Art & Design', 'August 3, 2018', '1.2.3', '2.3 and up']\n",
      "\n",
      "\n",
      "['Learn To Draw Kawaii Characters', 'ART_AND_DESIGN', '3.2', '55', '2.7M', '5,000+', 'Free', '0', 'Everyone', 'Art & Design', 'June 6, 2018', 'NaN', '4.2 and up']\n",
      "\n",
      "\n",
      "['Photo Designer - Write your name with shapes', 'ART_AND_DESIGN', '4.7', '3632', '5.5M', '500,000+', 'Free', '0', 'Everyone', 'Art & Design', 'July 31, 2018', '3.1', '4.1 and up']\n",
      "\n",
      "\n",
      "['350 Diy Room Decor Ideas', 'ART_AND_DESIGN', '4.5', '27', '17M', '10,000+', 'Free', '0', 'Everyone', 'Art & Design', 'November 7, 2017', '1.0', '2.3 and up']\n",
      "\n",
      "\n",
      "Number of rows: 8863\n",
      "Number of columns: 13\n",
      "\n",
      "\n",
      "Google Paid Apps\n",
      "['Moco+ - Chat, Meet People', 'DATING', '4.2', '1546', 'Varies with device', '10,000+', 'Paid', '$3.99', 'Mature 17+', 'Dating', 'June 19, 2018', '2.6.139', '4.1 and up']\n",
      "\n",
      "\n",
      "['Sago Mini Hat Maker', 'EDUCATION', '4.9', '11', '63M', '1,000+', 'Paid', '$3.99', 'Everyone', 'Education;Pretend Play', 'July 24, 2017', '1.0', '4.0.3 and up']\n",
      "\n",
      "\n",
      "['Fuzzy Numbers: Pre-K Number Foundation', 'EDUCATION', '4.7', '21', '44M', '1,000+', 'Paid', '$5.99', 'Everyone', 'Education;Education', 'July 21, 2017', '1.3', '4.1 and up']\n",
      "\n",
      "\n",
      "['Toca Life: Hospital', 'EDUCATION', '4.7', '3528', '24M', '100,000+', 'Paid', '$3.99', 'Everyone', 'Education;Pretend Play', 'June 12, 2018', '1.1.1-play', '4.4 and up']\n",
      "\n",
      "\n",
      "['My Talking Pet', 'ENTERTAINMENT', '4.6', '6238', 'Varies with device', '100,000+', 'Paid', '$4.99', 'Everyone', 'Entertainment', 'June 30, 2018', 'Varies with device', 'Varies with device']\n",
      "\n",
      "\n",
      "Number of rows: 751\n",
      "Number of columns: 13\n"
     ]
    }
   ],
   "source": [
    "google_data_eng_free = []\n",
    "google_data_eng_paid = []\n",
    "for row in google_data_eng :\n",
    "    free = row[6]\n",
    "    if free == 'Free' :\n",
    "        google_data_eng_free.append(row)\n",
    "    else :\n",
    "        google_data_eng_paid.append(row)\n",
    "        \n",
    "print('Google Free Apps')\n",
    "explore_data(google_data_eng_free, 12, 17, True)\n",
    "print('\\n')\n",
    "print('Google Paid Apps')\n",
    "explore_data(google_data_eng_paid, 7, 12, True)"
   ]
  },
  {
   "cell_type": "code",
   "execution_count": 19,
   "metadata": {},
   "outputs": [
    {
     "name": "stdout",
     "output_type": "stream",
     "text": [
      "Apple Free Apps\n",
      "['469369175', 'CSR Racing', '524803072', 'USD', '0.0', '677247', '2029', '4.5', '4.5', '4.0.1', '4+', 'Games', '37', '5', '10', '1']\n",
      "\n",
      "\n",
      "['924373886', 'Crossy Road - Endless Arcade Hopper', '165471232', 'USD', '0.0', '669079', '1087', '4.5', '4.5', '1.5.4', '9+', 'Games', '38', '5', '13', '1']\n",
      "\n",
      "\n",
      "['575658129', 'Injustice: Gods Among Us', '1829599232', 'USD', '0.0', '612532', '410', '4.5', '4.5', '2.15.1', '12+', 'Games', '39', '5', '13', '1']\n",
      "\n",
      "\n",
      "['506627515', 'Hay Day', '113641472', 'USD', '0.0', '567344', '4887', '4.5', '4.5', '1.33.134', '4+', 'Games', '38', '5', '18', '1']\n",
      "\n",
      "\n",
      "['293778748', 'PAC-MAN', '100849664', 'USD', '0.0', '508808', '99', '3.0', '4.5', '6.3.5', '4+', 'Games', '38', '5', '10', '1']\n",
      "\n",
      "\n",
      "Number of rows: 3222\n",
      "Number of columns: 16\n",
      "\n",
      "\n",
      "Apple Paid Apps\n",
      "['625334537', 'Geometry Dash', '83931136', 'USD', '1.99', '266440', '6263', '5.0', '4.5', '2.10', '4+', 'Games', '37', '4', '1', '1']\n",
      "\n",
      "\n",
      "['417817520', 'Tiny Wings', '30252032', 'USD', '0.99', '219418', '328', '4.5', '4.5', '2.2', '4+', 'Games', '37', '0', '6', '1']\n",
      "\n",
      "\n",
      "['322423174', 'Traffic Rush', '8573952', 'USD', '0.99', '213092', '51', '3.5', '4.5', '1.45.1', '9+', 'Games', '37', '3', '1', '1']\n",
      "\n",
      "\n",
      "['301387274', 'Pocket God', '145293312', 'USD', '0.99', '187529', '1071', '4.0', '4.0', '1.48.2', '9+', 'Entertainment', '43', '5', '1', '1']\n",
      "\n",
      "\n",
      "['363282253', 'Plants vs. Zombies HD', '225859584', 'USD', '0.99', '163598', '503', '5.0', '4.0', '1.9.12', '9+', 'Games', '24', '5', '5', '1']\n",
      "\n",
      "\n",
      "Number of rows: 2961\n",
      "Number of columns: 16\n"
     ]
    }
   ],
   "source": [
    "apple_data_eng_free = []\n",
    "apple_data_eng_paid = []\n",
    "for row in apple_data_eng :\n",
    "    price = float(row[4])\n",
    "    if price > 0 :\n",
    "        apple_data_eng_paid.append(row)\n",
    "    else :\n",
    "        apple_data_eng_free.append(row)\n",
    "        \n",
    "print('Apple Free Apps')\n",
    "explore_data(apple_data_eng_free, 12, 17, True)\n",
    "print('\\n')\n",
    "print('Apple Paid Apps')\n",
    "explore_data(apple_data_eng_paid, 7, 12, True)"
   ]
  },
  {
   "cell_type": "markdown",
   "metadata": {},
   "source": [
    "# Finding an App Profile\n"
   ]
  },
  {
   "cell_type": "markdown",
   "metadata": {},
   "source": [
    "We want to determine what app profile will work best on both the Google Play store and Apple Store.  We test our apps on the google play store and then only develop it further if it does well.  We Then transfer it to the apple store if it is profitable after six months."
   ]
  },
  {
   "cell_type": "code",
   "execution_count": 20,
   "metadata": {},
   "outputs": [],
   "source": [
    "def freq_table(dataset, index) :\n",
    "    dictionary = {}\n",
    "    for row in dataset :\n",
    "        item = row[index]\n",
    "        if item in dictionary :\n",
    "            dictionary[item] += 1\n",
    "        else :\n",
    "            dictionary[item] = 1\n",
    "    return dictionary"
   ]
  },
  {
   "cell_type": "code",
   "execution_count": 21,
   "metadata": {},
   "outputs": [],
   "source": [
    "def display_table(dataset, index):\n",
    "    table = freq_table(dataset, index)\n",
    "    table_display = []\n",
    "    for key in table:\n",
    "        key_val_as_tuple = (table[key], key)\n",
    "        table_display.append(key_val_as_tuple)\n",
    "\n",
    "    table_sorted = sorted(table_display, reverse = True)\n",
    "    for entry in table_sorted:\n",
    "        print(entry[1], ':', entry[0])"
   ]
  },
  {
   "cell_type": "markdown",
   "metadata": {},
   "source": [
    "When looking at the Google Data by Genre and by Category, we can see that android apps are typically used as tools or for business and education.  Games and entertainement ranks high in both lists as well."
   ]
  },
  {
   "cell_type": "code",
   "execution_count": 22,
   "metadata": {},
   "outputs": [
    {
     "name": "stdout",
     "output_type": "stream",
     "text": [
      "Google Data by Genre\n",
      "Tools : 749\n",
      "Entertainment : 538\n",
      "Education : 474\n",
      "Business : 407\n",
      "Productivity : 345\n",
      "Lifestyle : 345\n",
      "Finance : 328\n",
      "Medical : 313\n",
      "Sports : 307\n",
      "Personalization : 294\n",
      "Communication : 287\n",
      "Action : 275\n",
      "Health & Fitness : 273\n",
      "Photography : 261\n",
      "News & Magazines : 248\n",
      "Social : 236\n",
      "Travel & Local : 206\n",
      "Shopping : 199\n",
      "Books & Reference : 190\n",
      "Simulation : 181\n",
      "Dating : 165\n",
      "Arcade : 164\n",
      "Video Players & Editors : 157\n",
      "Casual : 156\n",
      "Maps & Navigation : 124\n",
      "Food & Drink : 110\n",
      "Puzzle : 100\n",
      "Racing : 88\n",
      "Role Playing : 83\n",
      "Libraries & Demo : 83\n",
      "Auto & Vehicles : 82\n",
      "Strategy : 80\n",
      "House & Home : 73\n",
      "Weather : 71\n",
      "Events : 63\n",
      "Adventure : 60\n",
      "Comics : 54\n",
      "Beauty : 53\n",
      "Art & Design : 53\n",
      "Parenting : 44\n",
      "Card : 40\n",
      "Casino : 38\n",
      "Trivia : 37\n",
      "Educational;Education : 35\n",
      "Board : 34\n",
      "Educational : 33\n",
      "Education;Education : 30\n",
      "Word : 23\n",
      "Casual;Pretend Play : 21\n",
      "Music : 18\n",
      "Racing;Action & Adventure : 15\n",
      "Puzzle;Brain Games : 15\n",
      "Entertainment;Music & Video : 15\n",
      "Casual;Brain Games : 12\n",
      "Casual;Action & Adventure : 12\n",
      "Arcade;Action & Adventure : 11\n",
      "Action;Action & Adventure : 9\n",
      "Educational;Pretend Play : 8\n",
      "Simulation;Action & Adventure : 7\n",
      "Parenting;Education : 7\n",
      "Entertainment;Brain Games : 7\n",
      "Board;Brain Games : 7\n",
      "Parenting;Music & Video : 6\n",
      "Educational;Brain Games : 6\n",
      "Casual;Creativity : 6\n",
      "Art & Design;Creativity : 6\n",
      "Education;Pretend Play : 5\n",
      "Role Playing;Pretend Play : 4\n",
      "Education;Creativity : 4\n",
      "Role Playing;Action & Adventure : 3\n",
      "Puzzle;Action & Adventure : 3\n",
      "Entertainment;Creativity : 3\n",
      "Entertainment;Action & Adventure : 3\n",
      "Educational;Creativity : 3\n",
      "Educational;Action & Adventure : 3\n",
      "Education;Music & Video : 3\n",
      "Education;Brain Games : 3\n",
      "Education;Action & Adventure : 3\n",
      "Adventure;Action & Adventure : 3\n",
      "Video Players & Editors;Music & Video : 2\n",
      "Sports;Action & Adventure : 2\n",
      "Simulation;Pretend Play : 2\n",
      "Puzzle;Creativity : 2\n",
      "Music;Music & Video : 2\n",
      "Entertainment;Pretend Play : 2\n",
      "Casual;Education : 2\n",
      "Board;Action & Adventure : 2\n",
      "Video Players & Editors;Creativity : 1\n",
      "Trivia;Education : 1\n",
      "Travel & Local;Action & Adventure : 1\n",
      "Tools;Education : 1\n",
      "Strategy;Education : 1\n",
      "Strategy;Creativity : 1\n",
      "Strategy;Action & Adventure : 1\n",
      "Simulation;Education : 1\n",
      "Role Playing;Brain Games : 1\n",
      "Racing;Pretend Play : 1\n",
      "Puzzle;Education : 1\n",
      "Parenting;Brain Games : 1\n",
      "Music & Audio;Music & Video : 1\n",
      "Lifestyle;Pretend Play : 1\n",
      "Lifestyle;Education : 1\n",
      "Health & Fitness;Education : 1\n",
      "Health & Fitness;Action & Adventure : 1\n",
      "Entertainment;Education : 1\n",
      "Communication;Creativity : 1\n",
      "Comics;Creativity : 1\n",
      "Casual;Music & Video : 1\n",
      "Card;Action & Adventure : 1\n",
      "Books & Reference;Education : 1\n",
      "Art & Design;Pretend Play : 1\n",
      "Art & Design;Action & Adventure : 1\n",
      "Arcade;Pretend Play : 1\n",
      "Adventure;Education : 1\n"
     ]
    }
   ],
   "source": [
    "print('Google Data by Genre')\n",
    "display_table(google_data_eng_free, 9)"
   ]
  },
  {
   "cell_type": "code",
   "execution_count": 23,
   "metadata": {},
   "outputs": [
    {
     "name": "stdout",
     "output_type": "stream",
     "text": [
      "Google Data by Category\n",
      "FAMILY : 1675\n",
      "GAME : 862\n",
      "TOOLS : 750\n",
      "BUSINESS : 407\n",
      "LIFESTYLE : 346\n",
      "PRODUCTIVITY : 345\n",
      "FINANCE : 328\n",
      "MEDICAL : 313\n",
      "SPORTS : 301\n",
      "PERSONALIZATION : 294\n",
      "COMMUNICATION : 287\n",
      "HEALTH_AND_FITNESS : 273\n",
      "PHOTOGRAPHY : 261\n",
      "NEWS_AND_MAGAZINES : 248\n",
      "SOCIAL : 236\n",
      "TRAVEL_AND_LOCAL : 207\n",
      "SHOPPING : 199\n",
      "BOOKS_AND_REFERENCE : 190\n",
      "DATING : 165\n",
      "VIDEO_PLAYERS : 159\n",
      "MAPS_AND_NAVIGATION : 124\n",
      "FOOD_AND_DRINK : 110\n",
      "EDUCATION : 103\n",
      "ENTERTAINMENT : 85\n",
      "LIBRARIES_AND_DEMO : 83\n",
      "AUTO_AND_VEHICLES : 82\n",
      "HOUSE_AND_HOME : 73\n",
      "WEATHER : 71\n",
      "EVENTS : 63\n",
      "PARENTING : 58\n",
      "ART_AND_DESIGN : 57\n",
      "COMICS : 55\n",
      "BEAUTY : 53\n"
     ]
    }
   ],
   "source": [
    "print('Google Data by Category')\n",
    "display_table(google_data_eng_free, 1)"
   ]
  },
  {
   "cell_type": "markdown",
   "metadata": {},
   "source": [
    "Looking at the apple data, we can see that the primary genre of these apps are by far Games.  The second and third biggest Genre is Entertainment and photo & video.  It seems most of the apps are used for recreation."
   ]
  },
  {
   "cell_type": "code",
   "execution_count": 24,
   "metadata": {},
   "outputs": [
    {
     "name": "stdout",
     "output_type": "stream",
     "text": [
      "Apple Data by Primary Genre\n",
      "Games : 1874\n",
      "Entertainment : 254\n",
      "Photo & Video : 160\n",
      "Education : 118\n",
      "Social Networking : 106\n",
      "Shopping : 84\n",
      "Utilities : 81\n",
      "Sports : 69\n",
      "Music : 66\n",
      "Health & Fitness : 65\n",
      "Productivity : 56\n",
      "Lifestyle : 51\n",
      "News : 43\n",
      "Travel : 40\n",
      "Finance : 36\n",
      "Weather : 28\n",
      "Food & Drink : 26\n",
      "Reference : 18\n",
      "Business : 17\n",
      "Book : 14\n",
      "Navigation : 6\n",
      "Medical : 6\n",
      "Catalogs : 4\n"
     ]
    }
   ],
   "source": [
    "print('Apple Data by Primary Genre')\n",
    "display_table(apple_data_eng_free, 11)"
   ]
  },
  {
   "cell_type": "markdown",
   "metadata": {},
   "source": [
    "### Looking for the most popular apps by Genre\n",
    "\n",
    "We want to know which of the categories above are most popular.  For the apple data, we do not have information on number of installs so we will use the number of user ratings to see which Genre's are more popular.\n",
    "\n",
    "We will get the average number of ratings by cycling through the `apple_data_eng_free` dataset and look for unique Genres.  Once a unique genre is found we will then cycle through the data set again so that we can sum the number of ratings and store that in `rating_sum`.  We then use this and the `count` variable to calculate the average rating count and store it in `average_rating_count`.  The genre and average rating count is then added to the dictionary `avg_num_rating`."
   ]
  },
  {
   "cell_type": "code",
   "execution_count": 32,
   "metadata": {},
   "outputs": [],
   "source": [
    "# apple_data_eng_free\n",
    "# rating count tot is index 5\n",
    "# genre is index 11\n",
    "\n",
    "avg_num_rating = {}\n",
    "\n",
    "for row in apple_data_eng_free :\n",
    "    genre = row[11]\n",
    "    if genre not in avg_num_rating :\n",
    "        rating_sum = 0\n",
    "        count = 0\n",
    "        for row2 in apple_data_eng_free :\n",
    "            gen = row2[11]\n",
    "            if gen == genre :\n",
    "                rating = float(row[5])\n",
    "                rating_sum += rating\n",
    "                count += 1\n",
    "        average_rating_count = rating_sum/count\n",
    "        avg_num_rating[genre]= average_rating_count\n",
    "        \n"
   ]
  },
  {
   "cell_type": "markdown",
   "metadata": {},
   "source": [
    "#### Apple Data Profile\n",
    "\n",
    "The table below shows that the most popular genres of apps are social networking, photo & video, and games.  If we were to make an apple app, I would recommend our company make apps in those Genres, perhaps combineing a phote & video app in a game like manner."
   ]
  },
  {
   "cell_type": "code",
   "execution_count": 31,
   "metadata": {},
   "outputs": [
    {
     "name": "stdout",
     "output_type": "stream",
     "text": [
      "Social Networking : 2974676.0\n",
      "Photo & Video : 2161558.0\n",
      "Games : 2130805.0\n",
      "Music : 1126879.0\n",
      "Reference : 985920.0\n",
      "Health & Fitness : 507706.0\n",
      "Weather : 495626.0\n",
      "Utilities : 479440.0\n",
      "Travel : 446185.0\n",
      "Shopping : 417779.0\n",
      "News : 354058.0\n",
      "Navigation : 345046.0\n",
      "Lifestyle : 342969.0\n",
      "Entertainment : 308844.0\n",
      "Food & Drink : 303856.0\n",
      "Sports : 290996.0\n",
      "Book : 252076.0\n",
      "Finance : 233270.0\n",
      "Education : 162701.0\n",
      "Productivity : 161065.0\n",
      "Business : 38681.0\n",
      "Catalogs : 13345.0\n",
      "Medical : 1341.0\n"
     ]
    }
   ],
   "source": [
    "table_display = []\n",
    "for key in avg_num_rating:\n",
    "        key_val_as_tuple = (avg_num_rating[key], key)\n",
    "        table_display.append(key_val_as_tuple)\n",
    "\n",
    "table_sorted = sorted(table_display, reverse = True)\n",
    "for entry in table_sorted:\n",
    "        print(entry[1], ':', entry[0])"
   ]
  },
  {
   "cell_type": "markdown",
   "metadata": {},
   "source": [
    "#### Google Data\n",
    "\n",
    "For the google data, we will use the number of installs data to determine which Genre is more popular.  This data is not that precise as it uses results such as `100,000+`.  For the purpose of our analysis we will treat this as 100,000 installs and all other instances will follow the same convention."
   ]
  },
  {
   "cell_type": "markdown",
   "metadata": {},
   "source": [
    "The code below loops through the `google_data_eng_free` looking for each unique genre.  Once a unique genre has been found, it will loop through itself again to get the sum of all the installs for that genre and stores that sum in `installs_sum`.  Before it can get the number of installs '+' and commas must be removed.  It also counts how many times that genre appears and stores that value in `count`.  Finally, it uses the previous variables to calculate the average installs in stores it in `average_installs`.  Then the genre and average installs are stored in the dictionary `g_avg_num_installs`."
   ]
  },
  {
   "cell_type": "code",
   "execution_count": 35,
   "metadata": {},
   "outputs": [],
   "source": [
    "# google_data_eng_free\n",
    "# number of installs is index 5\n",
    "# category is index 1\n",
    "\n",
    "g_avg_num_installs = {}\n",
    "\n",
    "for row in google_data_eng_free :\n",
    "    genre = row[1]\n",
    "    if genre not in g_avg_num_installs :\n",
    "        installs_sum = 0\n",
    "        count = 0\n",
    "        for row2 in google_data_eng_free :\n",
    "            gen = row2[1]\n",
    "            if gen == genre :\n",
    "                n_installs = row[5]\n",
    "                n_installs = n_installs.replace(\"+\", \"\")\n",
    "                n_installs = n_installs.replace(\",\", \"\")\n",
    "                n_installs = float(n_installs)\n",
    "                installs_sum += n_installs\n",
    "                count += 1\n",
    "        average_installs = installs_sum/count\n",
    "        g_avg_num_installs[genre]= average_installs"
   ]
  },
  {
   "cell_type": "markdown",
   "metadata": {},
   "source": [
    "#### Google App Profile\n",
    "\n",
    "The table below shows that the most popular apps  for android involve apps that play videos, are used as tools, for social interaction or communication.  If we were to make an Android app, I would recommend making something that plays videos and allows the user to communicate with others."
   ]
  },
  {
   "cell_type": "code",
   "execution_count": 36,
   "metadata": {},
   "outputs": [
    {
     "name": "stdout",
     "output_type": "stream",
     "text": [
      "VIDEO_PLAYERS : 1000000000.0\n",
      "TOOLS : 1000000000.0\n",
      "SOCIAL : 1000000000.0\n",
      "COMMUNICATION : 1000000000.0\n",
      "PRODUCTIVITY : 500000000.0\n",
      "MAPS_AND_NAVIGATION : 100000000.0\n",
      "WEATHER : 50000000.0\n",
      "TRAVEL_AND_LOCAL : 50000000.0\n",
      "PERSONALIZATION : 50000000.0\n",
      "SHOPPING : 10000000.0\n",
      "NEWS_AND_MAGAZINES : 10000000.0\n",
      "HOUSE_AND_HOME : 10000000.0\n",
      "GAME : 10000000.0\n",
      "FINANCE : 10000000.0\n",
      "DATING : 10000000.0\n",
      "BUSINESS : 10000000.0\n",
      "LIFESTYLE : 5000000.0\n",
      "PHOTOGRAPHY : 1000000.0\n",
      "MEDICAL : 1000000.0\n",
      "FAMILY : 1000000.0\n",
      "ENTERTAINMENT : 1000000.0\n",
      "HEALTH_AND_FITNESS : 500000.0\n",
      "COMICS : 500000.0\n",
      "BEAUTY : 500000.0\n",
      "SPORTS : 100000.0\n",
      "EVENTS : 100000.0\n",
      "EDUCATION : 100000.0\n",
      "AUTO_AND_VEHICLES : 100000.0\n",
      "LIBRARIES_AND_DEMO : 50000.0\n",
      "FOOD_AND_DRINK : 50000.0\n",
      "BOOKS_AND_REFERENCE : 50000.0\n",
      "PARENTING : 10000.0\n",
      "ART_AND_DESIGN : 10000.0\n"
     ]
    }
   ],
   "source": [
    "table_display = []\n",
    "for key in g_avg_num_installs:\n",
    "        key_val_as_tuple = (g_avg_num_installs[key], key)\n",
    "        table_display.append(key_val_as_tuple)\n",
    "\n",
    "table_sorted = sorted(table_display, reverse = True)\n",
    "for entry in table_sorted:\n",
    "        print(entry[1], ':', entry[0])"
   ]
  },
  {
   "cell_type": "markdown",
   "metadata": {},
   "source": [
    "# Conclusion\n",
    "\n",
    "We looked at data from both the Google play store and the Apple Store to determine which kind of app does well on both platforms.  We know we will be implementing our app on android before we switch to ios.  With that said, there are a few app profiles that both android and apple share in common.  On both platforms, education and food and drink apps were not that popular.  The most popular apps on both platforms are ones that play video, or are used for social networking/communication.  I would recommend our company pursue an app that falls into one or both of those categories."
   ]
  },
  {
   "cell_type": "code",
   "execution_count": null,
   "metadata": {},
   "outputs": [],
   "source": []
  }
 ],
 "metadata": {
  "kernelspec": {
   "display_name": "Python 3",
   "language": "python",
   "name": "python3"
  },
  "language_info": {
   "codemirror_mode": {
    "name": "ipython",
    "version": 3
   },
   "file_extension": ".py",
   "mimetype": "text/x-python",
   "name": "python",
   "nbconvert_exporter": "python",
   "pygments_lexer": "ipython3",
   "version": "3.8.2"
  }
 },
 "nbformat": 4,
 "nbformat_minor": 2
}
